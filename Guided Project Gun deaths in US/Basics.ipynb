{
 "cells": [
  {
   "cell_type": "code",
   "execution_count": 3,
   "metadata": {
    "collapsed": false,
    "scrolled": false
   },
   "outputs": [
    {
     "name": "stdout",
     "output_type": "stream",
     "text": [
      "{'F': 14449, 'M': 86349}\n",
      "{'Hispanic': 9022, 'Native American/Native Alaskan': 917, 'Asian/Pacific Islander': 1326, 'White': 66237, 'Black': 23296}\n"
     ]
    },
    {
     "data": {
      "text/plain": [
       "{'Asian/Pacific Islander': 3.530346230970155,\n",
       " 'Black': 48.471284987180944,\n",
       " 'Hispanic': 12.627161104219914,\n",
       " 'Native American/Native Alaskan': 8.717729026240365,\n",
       " 'White': 4.6356417981453335}"
      ]
     },
     "execution_count": 3,
     "metadata": {},
     "output_type": "execute_result"
    }
   ],
   "source": [
    "import csv\n",
    "import datetime\n",
    "\n",
    "with open(\"guns.csv\", \"r\") as f:\n",
    "    reader = csv.reader(f)\n",
    "    data = list(reader)\n",
    "    #print(data[:5])\n",
    "    \n",
    "headers = data[0]\n",
    "data = data[1:]\n",
    "#print(headers)\n",
    "#print(data[:5])\n",
    "\n",
    "years = [row[1] for row in data]\n",
    "\n",
    "year_counts = dict()\n",
    "for year in years:\n",
    "    if year not in year_counts:\n",
    "        year_counts[year] = 1\n",
    "    else:\n",
    "        year_counts[year] +=1\n",
    "#print(year_counts) \n",
    "\n",
    "dates = [datetime.datetime(year = int(row[1]), month = int(row[2]), day = 1) for row in data]\n",
    "\n",
    "date_counts = dict()\n",
    "for date in dates:\n",
    "    if date not in date_counts:\n",
    "        date_counts[date] = 1\n",
    "    else:\n",
    "        date_counts[date] += 1\n",
    "#date_counts\n",
    "\n",
    "sexes = [row[5] for row in data]\n",
    "sex_counts = dict()\n",
    "for sex in sexes:\n",
    "    if sex not in sex_counts:\n",
    "        sex_counts[sex] = 1\n",
    "    else:\n",
    "        sex_counts[sex] += 1\n",
    "print(sex_counts)\n",
    "\n",
    "\n",
    "races = [row[7] for row in data ]\n",
    "race_counts = dict()\n",
    "for race in races:\n",
    "    if race not in race_counts:\n",
    "        race_counts[race] = 1\n",
    "    else:\n",
    "        race_counts[race] += 1\n",
    "print(race_counts)\n",
    "\n",
    "with open(\"census.csv\", \"r\") as f:\n",
    "    reader = csv.reader(f)\n",
    "    census = list(reader)\n",
    "census\n",
    "\n",
    "mapping = {}\n",
    "mapping['Asian/Pacific Islander'] = 15159516 + 674625\n",
    "mapping['Black'] = 40250635\n",
    "mapping['Native American/Native Alaskan'] = 3739506\n",
    "mapping['Hispanic'] = 44618105\n",
    "mapping['White'] = 197318956\n",
    "\n",
    "race_per_hundredk = {}\n",
    "for k,v in race_counts.items():\n",
    "    race_per_hundredk[k] = (v / mapping[k]) * 100000\n",
    "\n",
    "#print(race_per_hundredk)\n",
    "\n",
    "intents = [row[3] for row in data]\n",
    "homicide_race_counts = {}\n",
    "for i,race in enumerate(races):\n",
    "    if race not in homicide_race_counts:\n",
    "        homicide_race_counts[race] = 0\n",
    "    if intents[i] == \"Homicide\":\n",
    "        homicide_race_counts[race] += 1\n",
    "\n",
    "race_per_hundredk = {}\n",
    "for k,v in homicide_race_counts.items():\n",
    "    race_per_hundredk[k] = (v / mapping[k]) * 100000\n",
    "\n",
    "race_per_hundredk"
   ]
  },
  {
   "cell_type": "code",
   "execution_count": null,
   "metadata": {
    "collapsed": false
   },
   "outputs": [],
   "source": []
  },
  {
   "cell_type": "code",
   "execution_count": null,
   "metadata": {
    "collapsed": true
   },
   "outputs": [],
   "source": []
  }
 ],
 "metadata": {
  "kernelspec": {
   "display_name": "Python 3",
   "language": "python",
   "name": "python3"
  },
  "language_info": {
   "codemirror_mode": {
    "name": "ipython",
    "version": 3
   },
   "file_extension": ".py",
   "mimetype": "text/x-python",
   "name": "python",
   "nbconvert_exporter": "python",
   "pygments_lexer": "ipython3",
   "version": "3.4.3"
  }
 },
 "nbformat": 4,
 "nbformat_minor": 0
}
